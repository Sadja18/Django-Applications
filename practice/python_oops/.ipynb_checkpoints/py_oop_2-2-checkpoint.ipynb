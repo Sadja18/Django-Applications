{
 "cells": [
  {
   "cell_type": "code",
   "execution_count": 10,
   "metadata": {},
   "outputs": [],
   "source": [
    "class Circle():\n",
    "    \n",
    "    pi = 3.14159\n",
    "    \n",
    "    def __init__(self, radius):\n",
    "        self.radius = radius\n",
    "    \n",
    "    def area(self):\n",
    "        \n",
    "        return (self.radius ** 2) * Circle.pi\n",
    "    \n",
    "    def circumference(self):\n",
    "        \n",
    "        return 2 * Circle.pi * self.radius"
   ]
  },
  {
   "cell_type": "code",
   "execution_count": 11,
   "metadata": {},
   "outputs": [],
   "source": [
    "circle = Circle(227)"
   ]
  },
  {
   "cell_type": "code",
   "execution_count": 13,
   "metadata": {},
   "outputs": [
    {
     "name": "stdout",
     "output_type": "stream",
     "text": [
      "Radius =  227 \n",
      "Area =  161882.99111 \n",
      "Circumference =  1426.28186\n"
     ]
    }
   ],
   "source": [
    "print(\"Radius = \", circle.radius, \"\\nArea = \" , circle.area() , \"\\nCircumference = \" , circle.circumference())"
   ]
  }
 ],
 "metadata": {
  "kernelspec": {
   "display_name": "Python 3",
   "language": "python",
   "name": "python3"
  },
  "language_info": {
   "codemirror_mode": {
    "name": "ipython",
    "version": 3
   },
   "file_extension": ".py",
   "mimetype": "text/x-python",
   "name": "python",
   "nbconvert_exporter": "python",
   "pygments_lexer": "ipython3",
   "version": "3.8.2"
  }
 },
 "nbformat": 4,
 "nbformat_minor": 4
}
