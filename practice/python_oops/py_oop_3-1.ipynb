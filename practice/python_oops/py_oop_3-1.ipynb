{
 "cells": [
  {
   "cell_type": "code",
   "execution_count": 1,
   "metadata": {},
   "outputs": [],
   "source": [
    "class Animal():\n",
    "    \n",
    "    def __init__(self):\n",
    "        \n",
    "        print(\"Class Animal\")\n",
    "        \n",
    "    def whoAmI(self):\n",
    "        print(\"Animal\")\n",
    "        \n",
    "    def motion(self):\n",
    "        print(\"Not enough info\")"
   ]
  },
  {
   "cell_type": "code",
   "execution_count": 24,
   "metadata": {},
   "outputs": [],
   "source": [
    "class Dog(Animal):\n",
    "    \n",
    "    def __init__(self, name, species):\n",
    "        Animal.__init__(self)\n",
    "        print(\"Dog\")\n",
    "        self.name = name\n",
    "        self.species = species\n",
    "        \n",
    "    def whoAmI(self):\n",
    "        print(\"Name = \" + self.name + \n",
    "              \"\\nSpecies = \" + self.species)"
   ]
  },
  {
   "cell_type": "code",
   "execution_count": 25,
   "metadata": {},
   "outputs": [
    {
     "name": "stdout",
     "output_type": "stream",
     "text": [
      "Class Animal\n",
      "Dog\n"
     ]
    }
   ],
   "source": [
    "dog = Dog(name = \"Dog\", species = \"Lab\")"
   ]
  },
  {
   "cell_type": "code",
   "execution_count": 26,
   "metadata": {},
   "outputs": [
    {
     "name": "stdout",
     "output_type": "stream",
     "text": [
      "Name = Dog\n",
      "Species = Lab\n",
      "None\n"
     ]
    }
   ],
   "source": [
    "print(dog.whoAmI())"
   ]
  }
 ],
 "metadata": {
  "kernelspec": {
   "display_name": "Python 3",
   "language": "python",
   "name": "python3"
  },
  "language_info": {
   "codemirror_mode": {
    "name": "ipython",
    "version": 3
   },
   "file_extension": ".py",
   "mimetype": "text/x-python",
   "name": "python",
   "nbconvert_exporter": "python",
   "pygments_lexer": "ipython3",
   "version": "3.8.2"
  }
 },
 "nbformat": 4,
 "nbformat_minor": 4
}
